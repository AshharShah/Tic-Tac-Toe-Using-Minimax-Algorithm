{
 "cells": [
  {
   "cell_type": "markdown",
   "id": "58c5f096-7ce7-48ab-a790-0bd053e1d511",
   "metadata": {
    "tags": []
   },
   "source": [
    "# LAB 5 - Home Task, Minimax Algorithm Implementation\n",
    "- Name: Syed Muhammad Ashhar Shah\n",
    "- Reg: 2020478"
   ]
  },
  {
   "cell_type": "code",
   "execution_count": 1,
   "id": "803a2a7a-5cf7-4006-9d62-c4f554b2fc51",
   "metadata": {},
   "outputs": [],
   "source": [
    "import math"
   ]
  },
  {
   "cell_type": "markdown",
   "id": "21542ec4-7a23-485e-987d-369bb1161333",
   "metadata": {
    "tags": []
   },
   "source": [
    "## Task 1\n",
    "First draw any graph of minmax and solve the graph manually and through coding (Note:\n",
    "\n",
    "1. Your Graph have more than 3 depths,\n",
    "\n",
    "2. Every student should use a different graph for this once you have selected the graph send the pic of the graph in the WhatsApp group CS-351-L, with your name and Reg number.\n",
    "\n",
    "3. I will not accept any assignment whose graph isn’t in the WhatsApp group)"
   ]
  },
  {
   "cell_type": "code",
   "execution_count": 2,
   "id": "6b2cf092-f390-4261-b06b-74f41bc18a43",
   "metadata": {},
   "outputs": [],
   "source": [
    "# function that implements mini-max algorithm on a game tree\n",
    "def minimax(currDepth, depth, currNode, score, maximizing):\n",
    "    # check if we have reached the maximum tree depth\n",
    "    if(currDepth == depth):\n",
    "        return score[currNode]\n",
    "    # if we are maximizing then we need to pick the max of the two minimum childs\n",
    "    if(maximizing == True):\n",
    "        return max( minimax(currDepth+1, depth, currNode*2, score, False) , minimax(currDepth+1, depth, (currNode*2)+1, score, False ) )\n",
    "    # if we are minimizing then we need to pick two of the maximum childs    \n",
    "    else:\n",
    "        return min( minimax(currDepth+1, depth, currNode*2, score, True) , minimax(currDepth+1, depth, (currNode*2)+1, score, True ) )"
   ]
  },
  {
   "cell_type": "code",
   "execution_count": 3,
   "id": "bf600599-d5ad-4daa-a324-427330af6e9f",
   "metadata": {},
   "outputs": [],
   "source": [
    "def displayTree():\n",
    "    return"
   ]
  },
  {
   "cell_type": "code",
   "execution_count": 4,
   "id": "6db1ba60-8596-461b-a4dd-1dc9dfd11de2",
   "metadata": {},
   "outputs": [
    {
     "name": "stdin",
     "output_type": "stream",
     "text": [
      "Enter how many leaf nodes does the tree have? (Must Be Even!) 2\n",
      "Enter Node Value:  3\n",
      "Enter Node Value:  2\n"
     ]
    },
    {
     "name": "stdout",
     "output_type": "stream",
     "text": [
      "The Best Move According To Minimax Algorithm Is: 3\n"
     ]
    }
   ],
   "source": [
    "# list which will store all the child nodes\n",
    "score = []\n",
    "\n",
    "# getting the total number of children in tree\n",
    "totalNodes = int(input(\"Enter how many leaf nodes does the tree have? (Must Be Even!)\"))\n",
    "\n",
    "assert(totalNodes % 2 == 0)\n",
    "    \n",
    "\n",
    "# inputting all the leaf nodes of the game tree\n",
    "for i in range(totalNodes):\n",
    "    node = int(input(\"Enter Node Value: \"))\n",
    "    score.append(node)\n",
    "    \n",
    "# getting the maximum depth of the game tree    \n",
    "treeDepth = math.log(len(score), 2)\n",
    "\n",
    "# function that will display the game tree\n",
    "displayTree()\n",
    "\n",
    "# applying the minimax algo to get the best possible score to make\n",
    "bestMove = minimax(0, treeDepth, 0, score, True)\n",
    "\n",
    "print(\"The Best Move According To Minimax Algorithm Is: \" + str(bestMove))"
   ]
  },
  {
   "cell_type": "markdown",
   "id": "ee284268-23f3-4b21-bcde-26717415a8c9",
   "metadata": {
    "tags": []
   },
   "source": [
    "## Task 2\n",
    "Write a code for Tic tac toe (minmax and alpha beta pruning).\n",
    "\n",
    "(Note:\n",
    "\n",
    "Your code structure should be like this.\n",
    "\n",
    "1. Define the game board: Create a 3x3 grid as the Tic Tac Toe game board, where each cell can be either empty, X or O.\n",
    "\n",
    "2. Create a function to display the game board: This function will display the current state of the game board to the players.\n",
    "\n",
    "3. Create a function to check for a winner: This function will check the game board to see if there is a winner. If there is a winner, it will return the winning player, otherwise it will return None.\n",
    "\n",
    "4. Create a function to get available moves: This function will scan the game board and return a list of all the available moves, which are represented by empty cells.\n",
    "\n",
    "5. Create a function to make a move: This function will make a move on the game board, based on the player's input. It will update the game board with the player's move.\n",
    "\n",
    "6. Create a function to evaluate the board: This function will evaluate the current state of the game board and assign a score to the board. The score will be higher if the current player is winning, lower if the opponent is winning, and zero if the game is tied.\n",
    "\n",
    "7. Create a Minimax algorithm function: This function will use the Minimax algorithm to calculate the best move for the computer player. The Minimax algorithm evaluates all possible moves and their outcomes and chooses the move that maximizes the computer player's chances of winning and minimizes the opponent's chances of winning.\n",
    "\n",
    "8. Implement the game loop: The game loop will continue until there is a winner or the game is tied. In each iteration of the loop, the player makes a move, the game board is updated, and the winner is checked. If there is a winner, the game loop ends, and the winner is announced. If there is no winner, the computer player calculates its move using the Minimax algorithm, makes the move, and the game loop continues.\n",
    "\n",
    "9. Test the game: Test the game to ensure that it works correctly, and all features are working as expected.)"
   ]
  },
  {
   "cell_type": "markdown",
   "id": "72d5b10f-6f12-4a27-a73d-4ccf026cdc20",
   "metadata": {},
   "source": [
    "### Define the game board: Create a 3x3 grid as the Tic Tac Toe game board, where each cell can be either empty, X or O."
   ]
  },
  {
   "cell_type": "code",
   "execution_count": 5,
   "id": "9508e39b-5686-4e12-bf79-6f7fa8e61b7a",
   "metadata": {},
   "outputs": [],
   "source": [
    "# defining the game board as a 3x3 grid in the form of a list\n",
    "board = [['X','O','X'], \n",
    "         ['O','O','X'], \n",
    "         ['_','_','_']]"
   ]
  },
  {
   "cell_type": "markdown",
   "id": "ee77ed8c-0b0f-4bf2-99e4-4d409e854f2e",
   "metadata": {
    "tags": []
   },
   "source": [
    "### Create a function to display the game board: This function will display the current state of the game board to the players."
   ]
  },
  {
   "cell_type": "code",
   "execution_count": 6,
   "id": "0c89173a-7b11-42c2-91e6-97cb08525b35",
   "metadata": {},
   "outputs": [],
   "source": [
    "# function when called will display the current game board\n",
    "def displayBoard(board):\n",
    "    print(end = \"\\n\")\n",
    "    print(\"Current State Of Game Board: \", end = \"\\n\")\n",
    "    for i in range(3):\n",
    "        print(i, end = \"  \")\n",
    "        for j in range(3):\n",
    "            print(board[i][j], end =\" \")\n",
    "        print(end = \"\\n\")\n",
    "        \n",
    "    print(\"   \", end=\"\")\n",
    "    for i in range(3):\n",
    "        print(i, end = \" \")\n",
    "    print(end = \"\\n\")"
   ]
  },
  {
   "cell_type": "code",
   "execution_count": 7,
   "id": "44a81d93-3f31-4c56-a415-179866f0f5f0",
   "metadata": {},
   "outputs": [
    {
     "name": "stdout",
     "output_type": "stream",
     "text": [
      "\n",
      "Current State Of Game Board: \n",
      "0  X O X \n",
      "1  O O X \n",
      "2  _ _ _ \n",
      "   0 1 2 \n"
     ]
    }
   ],
   "source": [
    "displayBoard(board)"
   ]
  },
  {
   "cell_type": "markdown",
   "id": "8b8442b7-5a0d-4a8a-b827-0f1cd2891ca8",
   "metadata": {},
   "source": [
    "### Create a function to check for a winner: This function will check the game board to see if there is a winner. If there is a winner, it will return the winning player, otherwise it will return None."
   ]
  },
  {
   "cell_type": "code",
   "execution_count": 8,
   "id": "bc2fd51d-f647-431f-98b1-1ba2c5c38919",
   "metadata": {},
   "outputs": [],
   "source": [
    "# function to check if there is a winner \n",
    "def checkForWinner(symbol):\n",
    "    # check for a win horizontally\n",
    "    for i in range(3):\n",
    "        if(board[i][0] == board[i][1] == board[i][2] == symbol):\n",
    "            return True\n",
    "    # check for a win vertically\n",
    "    for i in range(3):\n",
    "        if(board[0][i] == board[1][i] == board[2][i] == symbol):\n",
    "            return True\n",
    "        \n",
    "    # check for a win on the diagonals\n",
    "    if(board[0][0] == board[1][1] == board[2][2] == symbol):\n",
    "        return True\n",
    "    if(board[0][2] == board[1][1] == board[2][0] == symbol):\n",
    "        return True\n",
    "        \n",
    "    return False"
   ]
  },
  {
   "cell_type": "code",
   "execution_count": 9,
   "id": "e97ed710-cae9-4c52-a950-25a9955e7c1b",
   "metadata": {},
   "outputs": [
    {
     "data": {
      "text/plain": [
       "False"
      ]
     },
     "execution_count": 9,
     "metadata": {},
     "output_type": "execute_result"
    }
   ],
   "source": [
    "checkForWinner('O')"
   ]
  },
  {
   "cell_type": "markdown",
   "id": "607f7565-b947-4c01-aa4c-33a99ada2f18",
   "metadata": {},
   "source": [
    "### Create a function to get available moves: This function will scan the game board and return a list of all the available moves, which are represented by empty cells."
   ]
  },
  {
   "cell_type": "code",
   "execution_count": 10,
   "id": "9076aa8f-e9b5-4cf3-be2b-c89eb5700444",
   "metadata": {},
   "outputs": [],
   "source": [
    "# function that will print all the available moves on the board and return them as a list\n",
    "def possibleMoves():\n",
    "    moves = []\n",
    "    for i in range(3):\n",
    "        for j in range(3):\n",
    "            if(board[i][j] == '_'):\n",
    "                moves.append([i,j])\n",
    "                \n",
    "    # for move in moves:\n",
    "    #     print(move, end = \"   \")\n",
    "        \n",
    "    return moves"
   ]
  },
  {
   "cell_type": "code",
   "execution_count": 11,
   "id": "1e219c90-74fe-4467-9d35-356901423fe7",
   "metadata": {},
   "outputs": [
    {
     "data": {
      "text/plain": [
       "[[2, 0], [2, 1], [2, 2]]"
      ]
     },
     "execution_count": 11,
     "metadata": {},
     "output_type": "execute_result"
    }
   ],
   "source": [
    "possibleMoves()"
   ]
  },
  {
   "cell_type": "markdown",
   "id": "53bed254-64a4-4fe1-893f-65ca06516782",
   "metadata": {},
   "source": [
    "### Create a function to make a move: This function will make a move on the game board, based on the player's input. It will update the game board with the player's move."
   ]
  },
  {
   "cell_type": "code",
   "execution_count": 12,
   "id": "c532fbce-70ce-4da7-adec-4387d536c13b",
   "metadata": {},
   "outputs": [],
   "source": [
    "# function that makes a move based on the players input\n",
    "def makeMove(i,j, symbol):\n",
    "    board[i][j] = symbol"
   ]
  },
  {
   "cell_type": "code",
   "execution_count": 13,
   "id": "f400431c-9848-43b7-9594-f062a5d7d4b1",
   "metadata": {},
   "outputs": [
    {
     "name": "stdout",
     "output_type": "stream",
     "text": [
      "\n",
      "Current State Of Game Board: \n",
      "0  X O X \n",
      "1  O O X \n",
      "2  _ _ _ \n",
      "   0 1 2 \n",
      "\n",
      "Current State Of Game Board: \n",
      "0  X O X \n",
      "1  O O X \n",
      "2  _ _ _ \n",
      "   0 1 2 \n"
     ]
    }
   ],
   "source": [
    "displayBoard(board)\n",
    "makeMove(0,0, 'X')\n",
    "displayBoard(board)"
   ]
  },
  {
   "cell_type": "markdown",
   "id": "d533d2fa-e2eb-485c-8b95-f6d225f71b6d",
   "metadata": {},
   "source": [
    "### Create a Minimax algorithm function: This function will use the Minimax algorithm to calculate the best move for the computer player. The Minimax algorithm evaluates all possible moves and their outcomes and chooses the move that maximizes the computer player's chances of winning and minimizes the opponent's chances of winning."
   ]
  },
  {
   "cell_type": "code",
   "execution_count": 14,
   "id": "184e6845-ed88-4e62-9607-59b4cf7d4711",
   "metadata": {},
   "outputs": [],
   "source": [
    "# our min-max function that evaluates the current game board and assigns a score to the board depending on if the user is winning or the computer is winning\n",
    "def minimax(depth, isMax) : \n",
    "    # if the computer won we assign in a score of 1\n",
    "    if (checkForWinner('O') == True) : \n",
    "        return 1\n",
    "    # if the player won we assign it a score of -1\n",
    "    if (checkForWinner('X') == True) :\n",
    "        return (-1)\n",
    "    # if there is a tie / no more possible moves we assign it 0\n",
    "    if (possibleMoves() == []) :\n",
    "        return 0\n",
    "  \n",
    "    # If this maximizer/computers move \n",
    "    if (isMax) :\n",
    "        # we have to maximize negative infinity\n",
    "        best = -1000 \n",
    "        # traverse the game board\n",
    "        for i in range(3) :         \n",
    "            for j in range(3) :\n",
    "                # if we find an empty cell\n",
    "                if (board[i][j]=='_') :\n",
    "                    # we make a move there\n",
    "                    board[i][j] = 'O' \n",
    "                    # we call the minimax algorithm but we select the max of the two miniumum\n",
    "                    best = max( best, minimax(depth + 1, False))\n",
    "                    # we undo the move we made\n",
    "                    board[i][j] = '_'\n",
    "        return best\n",
    "  \n",
    "    # If this minimizer/players move \n",
    "    else :\n",
    "        # we have to minimize infinity\n",
    "        best = 1000 \n",
    "        # traverse the game board \n",
    "        for i in range(3) :         \n",
    "            for j in range(3) :\n",
    "                # if we find an empty cell\n",
    "                if (board[i][j] == '_') :\n",
    "                    # we make a move there\n",
    "                    board[i][j] = 'X'\n",
    "                    # we call the minimax algorithm but we select the max of the two miniumum\n",
    "                    best = min(best, minimax(depth + 1, True))\n",
    "                    # we undo the move we made\n",
    "                    board[i][j] = '_'\n",
    "        return best"
   ]
  },
  {
   "cell_type": "markdown",
   "id": "69adad6d-685f-4085-b411-e840cdd13fcf",
   "metadata": {},
   "source": [
    "### Create a function to evaluate the board: This function will evaluate the current state of the game board and assign a score to the board. The score will be higher if the current player is winning, lower if the opponent is winning, and zero if the game is tied."
   ]
  },
  {
   "cell_type": "code",
   "execution_count": 15,
   "id": "62921ef6-c8b9-4678-bf1e-906eda47fd59",
   "metadata": {},
   "outputs": [],
   "source": [
    "# function that will use the min-max algorithm and provide us with the best possible move for the computer\n",
    "def findBestMove(board) : \n",
    "    bestVal = -1000 \n",
    "    bestMove = []\n",
    "  \n",
    "    # Traverse all cells, evaluate minimax function for \n",
    "    # all empty cells. And return the cell with optimal \n",
    "    # value. \n",
    "    for i in range(3) :     \n",
    "        for j in range(3) :\n",
    "            # Check if cell is empty \n",
    "            if (board[i][j] == '_') : \n",
    "                # Make the move \n",
    "                board[i][j] = 'O'\n",
    "                # compute evaluation function for this \n",
    "                # move. \n",
    "                moveVal = minimax(0, False) \n",
    "                # Undo the move \n",
    "                board[i][j] = '_' \n",
    "                # If the value of the current move is \n",
    "                # more than the best value, then update \n",
    "                # best/ \n",
    "                if (moveVal > bestVal) :                \n",
    "                    bestMove = [i,j]\n",
    "                    bestVal = moveVal\n",
    "    return (bestMove, bestVal)"
   ]
  },
  {
   "cell_type": "code",
   "execution_count": 16,
   "id": "c1dec055-7627-45a2-93c3-c263d1071140",
   "metadata": {},
   "outputs": [
    {
     "name": "stdout",
     "output_type": "stream",
     "text": [
      "The Best Score Is: 1\n",
      "The Best Move For Computer Is: [2, 1]\n"
     ]
    }
   ],
   "source": [
    "bestMove, bestVal = findBestMove(board)\n",
    "print(\"The Best Score Is: \" + str(bestVal))\n",
    "print(\"The Best Move For Computer Is: \" + str(bestMove))"
   ]
  },
  {
   "cell_type": "markdown",
   "id": "b5ab90cf-61b8-4b0b-bfe9-a2d89bd5faad",
   "metadata": {},
   "source": [
    "### Implement the game loop: The game loop will continue until there is a winner or the game is tied. In each iteration of the loop, the player makes a move, the game board is updated, and the winner is checked. If there is a winner, the game loop ends, and the winner is announced. If there is no winner, the computer player calculates its move using the Minimax algorithm, makes the move, and the game loop continues."
   ]
  },
  {
   "cell_type": "code",
   "execution_count": 17,
   "id": "b860f8cb-18e1-4a84-a3c1-5106f561d230",
   "metadata": {},
   "outputs": [],
   "source": [
    "# function to check if the game has ended\n",
    "def gameOver():\n",
    "    # if the computer won\n",
    "    if (checkForWinner('O') == True) : \n",
    "        return True\n",
    "    # if the player won\n",
    "    elif (checkForWinner('X') == True) :\n",
    "        return True\n",
    "    # if there is a tie / no more possible moves\n",
    "    elif (possibleMoves() == []) :\n",
    "        return True\n",
    "    # else the game is still in play\n",
    "    else:\n",
    "        return False"
   ]
  },
  {
   "cell_type": "code",
   "execution_count": 18,
   "id": "f46c8789-7237-4e18-91af-2dacbbe96a88",
   "metadata": {},
   "outputs": [],
   "source": [
    "def resetBoard():\n",
    "    for i in range(3):\n",
    "        for j in range(3):\n",
    "            board[i][j] = '_'"
   ]
  },
  {
   "cell_type": "code",
   "execution_count": 19,
   "id": "4ef9ba01-6f7d-422e-915d-ad85e788fa5a",
   "metadata": {},
   "outputs": [],
   "source": [
    "def displayMessage():\n",
    "    # if the computer won\n",
    "    if (checkForWinner('O') == True) : \n",
    "        print(\"Game Over!! The Computer Won!!!\", end = \"\\n\\n\")\n",
    "    # if the player won\n",
    "    elif (checkForWinner('X') == True) :\n",
    "        print(\"Game Over!! The Player Won!!!\", end = \"\\n\\n\")\n",
    "    # if there is a tie / no more possible moves\n",
    "    else:\n",
    "        print(\"Game Over!! The Game Is A Tie!!!\", end = \"\\n\\n\")"
   ]
  },
  {
   "cell_type": "code",
   "execution_count": 20,
   "id": "3e48177c-1fed-48f0-9cc8-02b18d4f2cb9",
   "metadata": {},
   "outputs": [],
   "source": [
    "def validMove(x,y):\n",
    "    if(board[x][y] == '_'):\n",
    "        return True\n",
    "    else:\n",
    "        print('Invalid Move!!!')\n",
    "        return False"
   ]
  },
  {
   "cell_type": "code",
   "execution_count": 23,
   "id": "dd26bf7a-5aa4-48e7-babe-9d10c019e039",
   "metadata": {},
   "outputs": [],
   "source": [
    "def playGame():\n",
    "    resetBoard()\n",
    "    while(not gameOver()):\n",
    "        \n",
    "        displayBoard(board)\n",
    "        \n",
    "        x = int(input(\"Enter X Co-Ordinate\"))\n",
    "        y = int(input(\"Enter Y Co-Ordinate\"))\n",
    "        if(validMove(y,x) == False):\n",
    "            break\n",
    "            \n",
    "        makeMove(y,x, 'X')\n",
    "        \n",
    "        print(end = \"\\n\\n\")\n",
    "        print(\"Your Move: \")\n",
    "        displayBoard(board)\n",
    "        \n",
    "        if(gameOver() == True):\n",
    "            displayMessage()\n",
    "            break\n",
    "            \n",
    "        bestMove, bestVal = findBestMove(board)\n",
    "        makeMove(bestMove[0], bestMove[1], 'O')\n",
    "        \n",
    "        print(end = \"\\n\\n\")\n",
    "        print(\"Computer Move: \")\n",
    "        displayBoard(board)\n",
    "        \n",
    "        if(gameOver() == True):\n",
    "            displayMessage()\n",
    "            break"
   ]
  },
  {
   "cell_type": "code",
   "execution_count": null,
   "id": "fba19139-4884-4942-9920-59a55604df65",
   "metadata": {},
   "outputs": [
    {
     "name": "stdout",
     "output_type": "stream",
     "text": [
      "\n",
      "Current State Of Game Board: \n",
      "0  _ _ _ \n",
      "1  _ _ _ \n",
      "2  _ _ _ \n",
      "   0 1 2 \n"
     ]
    },
    {
     "name": "stdin",
     "output_type": "stream",
     "text": [
      "Enter X Co-Ordinate 2\n",
      "Enter Y Co-Ordinate 0\n"
     ]
    },
    {
     "name": "stdout",
     "output_type": "stream",
     "text": [
      "\n",
      "\n",
      "Your Move: \n",
      "\n",
      "Current State Of Game Board: \n",
      "0  _ _ X \n",
      "1  _ _ _ \n",
      "2  _ _ _ \n",
      "   0 1 2 \n",
      "\n",
      "\n",
      "Computer Move: \n",
      "\n",
      "Current State Of Game Board: \n",
      "0  _ _ X \n",
      "1  _ O _ \n",
      "2  _ _ _ \n",
      "   0 1 2 \n",
      "\n",
      "Current State Of Game Board: \n",
      "0  _ _ X \n",
      "1  _ O _ \n",
      "2  _ _ _ \n",
      "   0 1 2 \n"
     ]
    }
   ],
   "source": [
    "playGame()"
   ]
  },
  {
   "cell_type": "code",
   "execution_count": null,
   "id": "ca7f017e-f737-41bc-8d89-0894f2b4e2be",
   "metadata": {},
   "outputs": [],
   "source": []
  }
 ],
 "metadata": {
  "kernelspec": {
   "display_name": "Python 3 (ipykernel)",
   "language": "python",
   "name": "python3"
  },
  "language_info": {
   "codemirror_mode": {
    "name": "ipython",
    "version": 3
   },
   "file_extension": ".py",
   "mimetype": "text/x-python",
   "name": "python",
   "nbconvert_exporter": "python",
   "pygments_lexer": "ipython3",
   "version": "3.10.6"
  }
 },
 "nbformat": 4,
 "nbformat_minor": 5
}
