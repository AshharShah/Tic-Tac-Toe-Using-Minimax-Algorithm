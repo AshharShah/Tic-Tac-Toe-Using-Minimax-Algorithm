{
 "cells": [
  {
   "cell_type": "markdown",
   "id": "58c5f096-7ce7-48ab-a790-0bd053e1d511",
   "metadata": {
    "tags": []
   },
   "source": [
    "# LAB 5 - Home Task, Minimax Algorithm Implementation\n",
    "- Name: Syed Muhammad Ashhar Shah\n",
    "- Reg: 2020478"
   ]
  },
  {
   "cell_type": "code",
   "execution_count": 1,
   "id": "803a2a7a-5cf7-4006-9d62-c4f554b2fc51",
   "metadata": {},
   "outputs": [],
   "source": [
    "import math"
   ]
  },
  {
   "cell_type": "markdown",
   "id": "21542ec4-7a23-485e-987d-369bb1161333",
   "metadata": {
    "tags": []
   },
   "source": [
    "## Task 1\n",
    "First draw any graph of minmax and solve the graph manually and through coding (Note:\n",
    "\n",
    "1. Your Graph have more than 3 depths,\n",
    "\n",
    "2. Every student should use a different graph for this once you have selected the graph send the pic of the graph in the WhatsApp group CS-351-L, with your name and Reg number.\n",
    "\n",
    "3. I will not accept any assignment whose graph isn’t in the WhatsApp group)"
   ]
  },
  {
   "cell_type": "code",
   "execution_count": 2,
   "id": "6b2cf092-f390-4261-b06b-74f41bc18a43",
   "metadata": {},
   "outputs": [],
   "source": [
    "# function that implements mini-max algorithm on a game tree\n",
    "def minimax(currDepth, depth, currNode, score, maximizing):\n",
    "    # check if we have reached the maximum tree depth\n",
    "    if(currDepth == depth):\n",
    "        return score[currNode]\n",
    "    # if we are maximizing then we need to pick the max of the two minimum childs\n",
    "    if(maximizing == True):\n",
    "        return max( minimax(currDepth+1, depth, currNode*2, score, False) , minimax(currDepth+1, depth, (currNode*2)+1, score, False ) )\n",
    "    # if we are minimizing then we need to pick two of the maximum childs    \n",
    "    else:\n",
    "        return min( minimax(currDepth+1, depth, currNode*2, score, True) , minimax(currDepth+1, depth, (currNode*2)+1, score, True ) )"
   ]
  },
  {
   "cell_type": "code",
   "execution_count": 3,
   "id": "bf600599-d5ad-4daa-a324-427330af6e9f",
   "metadata": {},
   "outputs": [],
   "source": [
    "def displayTree():\n",
    "    return"
   ]
  },
  {
   "cell_type": "code",
   "execution_count": 4,
   "id": "6db1ba60-8596-461b-a4dd-1dc9dfd11de2",
   "metadata": {},
   "outputs": [
    {
     "name": "stdin",
     "output_type": "stream",
     "text": [
      "Enter how many leaf nodes does the tree have? (Must Be Even!) 4\n",
      "Enter Node Value:  3\n",
      "Enter Node Value:  2\n",
      "Enter Node Value:  5\n",
      "Enter Node Value:  1\n"
     ]
    },
    {
     "name": "stdout",
     "output_type": "stream",
     "text": [
      "The Best Move According To Minimax Algorithm Is: 2\n"
     ]
    }
   ],
   "source": [
    "# list which will store all the child nodes\n",
    "score = []\n",
    "\n",
    "# getting the total number of children in tree\n",
    "totalNodes = int(input(\"Enter how many leaf nodes does the tree have? (Must Be Even!)\"))\n",
    "\n",
    "assert(totalNodes % 2 == 0)\n",
    "    \n",
    "\n",
    "# inputting all the leaf nodes of the game tree\n",
    "for i in range(totalNodes):\n",
    "    node = int(input(\"Enter Node Value: \"))\n",
    "    score.append(node)\n",
    "    \n",
    "# getting the maximum depth of the game tree    \n",
    "treeDepth = math.log(len(score), 2)\n",
    "\n",
    "# function that will display the game tree\n",
    "displayTree()\n",
    "\n",
    "# applying the minimax algo to get the best possible score to make\n",
    "bestMove = minimax(0, treeDepth, 0, score, True)\n",
    "\n",
    "print(\"The Best Move According To Minimax Algorithm Is: \" + str(bestMove))"
   ]
  },
  {
   "cell_type": "markdown",
   "id": "ee284268-23f3-4b21-bcde-26717415a8c9",
   "metadata": {
    "tags": []
   },
   "source": [
    "## Task 2\n",
    "Write a code for Tic tac toe (minmax and alpha beta pruning).\n",
    "\n",
    "(Note:\n",
    "\n",
    "Your code structure should be like this.\n",
    "\n",
    "1. Define the game board: Create a 3x3 grid as the Tic Tac Toe game board, where each cell can be either empty, X or O.\n",
    "\n",
    "2. Create a function to display the game board: This function will display the current state of the game board to the players.\n",
    "\n",
    "3. Create a function to check for a winner: This function will check the game board to see if there is a winner. If there is a winner, it will return the winning player, otherwise it will return None.\n",
    "\n",
    "4. Create a function to get available moves: This function will scan the game board and return a list of all the available moves, which are represented by empty cells.\n",
    "\n",
    "5. Create a function to make a move: This function will make a move on the game board, based on the player's input. It will update the game board with the player's move.\n",
    "\n",
    "6. Create a function to evaluate the board: This function will evaluate the current state of the game board and assign a score to the board. The score will be higher if the current player is winning, lower if the opponent is winning, and zero if the game is tied.\n",
    "\n",
    "7. Create a Minimax algorithm function: This function will use the Minimax algorithm to calculate the best move for the computer player. The Minimax algorithm evaluates all possible moves and their outcomes and chooses the move that maximizes the computer player's chances of winning and minimizes the opponent's chances of winning.\n",
    "\n",
    "8. Implement the game loop: The game loop will continue until there is a winner or the game is tied. In each iteration of the loop, the player makes a move, the game board is updated, and the winner is checked. If there is a winner, the game loop ends, and the winner is announced. If there is no winner, the computer player calculates its move using the Minimax algorithm, makes the move, and the game loop continues.\n",
    "\n",
    "9. Test the game: Test the game to ensure that it works correctly, and all features are working as expected.)"
   ]
  },
  {
   "cell_type": "code",
   "execution_count": 5,
   "id": "9508e39b-5686-4e12-bf79-6f7fa8e61b7a",
   "metadata": {},
   "outputs": [],
   "source": [
    "# defining the game board as a 3x3 grid in the form of a list\n",
    "board = [['_','X','O'], \n",
    "         ['_','O','_'], \n",
    "         ['O','_','_']]"
   ]
  },
  {
   "cell_type": "code",
   "execution_count": 6,
   "id": "0c89173a-7b11-42c2-91e6-97cb08525b35",
   "metadata": {},
   "outputs": [],
   "source": [
    "# function when called will display the current game board\n",
    "def displayBoard(board):\n",
    "    print(end = \"\\n\")\n",
    "    print(\"Current State Of Game Board: \", end = \"\\n\")\n",
    "    for i in range(3):\n",
    "        for j in range(3):\n",
    "            print(board[i][j], end =\" \")\n",
    "        print(end = \"\\n\")\n",
    "    print(end = \"\\n\")"
   ]
  },
  {
   "cell_type": "code",
   "execution_count": 7,
   "id": "44a81d93-3f31-4c56-a415-179866f0f5f0",
   "metadata": {},
   "outputs": [
    {
     "name": "stdout",
     "output_type": "stream",
     "text": [
      "\n",
      "Current State Of Game Board: \n",
      "_ X O \n",
      "_ O _ \n",
      "O _ _ \n",
      "\n"
     ]
    }
   ],
   "source": [
    "displayBoard(board)"
   ]
  },
  {
   "cell_type": "code",
   "execution_count": 8,
   "id": "bc2fd51d-f647-431f-98b1-1ba2c5c38919",
   "metadata": {},
   "outputs": [],
   "source": [
    "# function to check if there is a winner \n",
    "def checkForWinner(symbol):\n",
    "    # check for a win horizontally\n",
    "    for i in range(3):\n",
    "        if(board[i][0] == board[i][1] == board[i][2] == symbol):\n",
    "            return True\n",
    "    # check for a win vertically\n",
    "    for i in range(3):\n",
    "        if(board[0][i] == board[1][i] == board[2][i] == symbol):\n",
    "            return True\n",
    "        \n",
    "    # check for a win on the diagonals\n",
    "    if(board[0][0] == board[1][1] == board[2][2] == symbol):\n",
    "        return True\n",
    "    if(board[0][2] == board[1][1] == board[2][0] == symbol):\n",
    "        return True\n",
    "        \n",
    "    return False"
   ]
  },
  {
   "cell_type": "code",
   "execution_count": 9,
   "id": "e97ed710-cae9-4c52-a950-25a9955e7c1b",
   "metadata": {},
   "outputs": [
    {
     "data": {
      "text/plain": [
       "True"
      ]
     },
     "execution_count": 9,
     "metadata": {},
     "output_type": "execute_result"
    }
   ],
   "source": [
    "checkForWinner('O')"
   ]
  },
  {
   "cell_type": "code",
   "execution_count": 10,
   "id": "9076aa8f-e9b5-4cf3-be2b-c89eb5700444",
   "metadata": {},
   "outputs": [],
   "source": [
    "# function that will print all the available moves on the board and return them as a list\n",
    "def possibleMoves():\n",
    "    moves = []\n",
    "    for i in range(3):\n",
    "        for j in range(3):\n",
    "            if(board[i][j] == '_'):\n",
    "                moves.append([i,j])\n",
    "                \n",
    "    # for move in moves:\n",
    "    #     print(move, end = \"   \")\n",
    "        \n",
    "    return moves"
   ]
  },
  {
   "cell_type": "code",
   "execution_count": 11,
   "id": "1e219c90-74fe-4467-9d35-356901423fe7",
   "metadata": {},
   "outputs": [
    {
     "data": {
      "text/plain": [
       "[[0, 0], [1, 0], [1, 2], [2, 1], [2, 2]]"
      ]
     },
     "execution_count": 11,
     "metadata": {},
     "output_type": "execute_result"
    }
   ],
   "source": [
    "possibleMoves()"
   ]
  },
  {
   "cell_type": "code",
   "execution_count": 12,
   "id": "c532fbce-70ce-4da7-adec-4387d536c13b",
   "metadata": {},
   "outputs": [],
   "source": [
    "# function that makes a move based on the players input\n",
    "def makeMove(i,j):\n",
    "    board[i][j] = 'X'"
   ]
  },
  {
   "cell_type": "code",
   "execution_count": 13,
   "id": "f400431c-9848-43b7-9594-f062a5d7d4b1",
   "metadata": {},
   "outputs": [
    {
     "name": "stdout",
     "output_type": "stream",
     "text": [
      "\n",
      "Current State Of Game Board: \n",
      "_ X O \n",
      "_ O _ \n",
      "O _ _ \n",
      "\n",
      "\n",
      "Current State Of Game Board: \n",
      "X X O \n",
      "_ O _ \n",
      "O _ _ \n",
      "\n"
     ]
    }
   ],
   "source": [
    "displayBoard(board)\n",
    "makeMove(0,0)\n",
    "displayBoard(board)"
   ]
  },
  {
   "cell_type": "code",
   "execution_count": null,
   "id": "184e6845-ed88-4e62-9607-59b4cf7d4711",
   "metadata": {},
   "outputs": [],
   "source": []
  }
 ],
 "metadata": {
  "kernelspec": {
   "display_name": "Python 3 (ipykernel)",
   "language": "python",
   "name": "python3"
  },
  "language_info": {
   "codemirror_mode": {
    "name": "ipython",
    "version": 3
   },
   "file_extension": ".py",
   "mimetype": "text/x-python",
   "name": "python",
   "nbconvert_exporter": "python",
   "pygments_lexer": "ipython3",
   "version": "3.10.6"
  }
 },
 "nbformat": 4,
 "nbformat_minor": 5
}
